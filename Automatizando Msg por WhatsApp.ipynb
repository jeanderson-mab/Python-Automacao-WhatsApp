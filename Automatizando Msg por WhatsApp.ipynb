{
 "cells": [
  {
   "cell_type": "code",
   "execution_count": 142,
   "id": "a68c97da",
   "metadata": {},
   "outputs": [],
   "source": [
    "import pandas as pd\n"
   ]
  },
  {
   "cell_type": "markdown",
   "id": "3f33c55e",
   "metadata": {},
   "source": [
    "##Definindo um DataFrame"
   ]
  },
  {
   "cell_type": "code",
   "execution_count": 143,
   "id": "2d5d94fd",
   "metadata": {},
   "outputs": [
    {
     "data": {
      "text/html": [
       "<div>\n",
       "<style scoped>\n",
       "    .dataframe tbody tr th:only-of-type {\n",
       "        vertical-align: middle;\n",
       "    }\n",
       "\n",
       "    .dataframe tbody tr th {\n",
       "        vertical-align: top;\n",
       "    }\n",
       "\n",
       "    .dataframe thead th {\n",
       "        text-align: right;\n",
       "    }\n",
       "</style>\n",
       "<table border=\"1\" class=\"dataframe\">\n",
       "  <thead>\n",
       "    <tr style=\"text-align: right;\">\n",
       "      <th></th>\n",
       "      <th>Nome</th>\n",
       "      <th>Telefone</th>\n",
       "      <th>Mensagem</th>\n",
       "    </tr>\n",
       "  </thead>\n",
       "  <tbody>\n",
       "    <tr>\n",
       "      <th>0</th>\n",
       "      <td>Jeanderson</td>\n",
       "      <td>5534984099680</td>\n",
       "      <td>Olá</td>\n",
       "    </tr>\n",
       "    <tr>\n",
       "      <th>1</th>\n",
       "      <td>Rafael</td>\n",
       "      <td>5534991513072</td>\n",
       "      <td>Fala baitola</td>\n",
       "    </tr>\n",
       "    <tr>\n",
       "      <th>2</th>\n",
       "      <td>Lucas Fernandes</td>\n",
       "      <td>5534996499159</td>\n",
       "      <td>Olá, meu mano. Liguei errado</td>\n",
       "    </tr>\n",
       "  </tbody>\n",
       "</table>\n",
       "</div>"
      ],
      "text/plain": [
       "              Nome       Telefone                      Mensagem\n",
       "0       Jeanderson  5534984099680                           Olá\n",
       "1           Rafael  5534991513072                  Fala baitola\n",
       "2  Lucas Fernandes  5534996499159  Olá, meu mano. Liguei errado"
      ]
     },
     "execution_count": 143,
     "metadata": {},
     "output_type": "execute_result"
    }
   ],
   "source": [
    "data = {\n",
    "    'Nome':['Jeanderson','Rafael','Lucas Fernandes'],\n",
    "    'Telefone':['5534984099680','5534991513072','5534996499159'],\n",
    "    'Mensagem':['Olá', 'Fala baitola','Olá, meu mano. Liguei errado']\n",
    "}\n",
    "contatos_df = pd.DataFrame(data)\n",
    "contatos_df\n",
    "\n"
   ]
  },
  {
   "cell_type": "code",
   "execution_count": 144,
   "id": "994a213f",
   "metadata": {
    "scrolled": true
   },
   "outputs": [],
   "source": [
    "from selenium import webdriver\n",
    "from selenium.webdriver.common.keys import Keys\n",
    "from selenium.webdriver.common.by import By\n",
    "import time\n",
    "import urllib\n",
    "\n",
    "navegador = webdriver.Chrome()\n",
    "navegador.get('https://web.whatsapp.com/')\n",
    "\n",
    "while len(navegador.find_elements(By.ID, \"app\")) < 1:\n",
    "    time.sleep(1)\n",
    "time.sleep(15)\n",
    "\n",
    "for i, mensagem in enumerate(contatos_df['Mensagem']):\n",
    "    pessoa = contatos_df.loc[i, \"Nome\"]\n",
    "    numero = contatos_df.loc[i, \"Telefone\"]\n",
    "    mensagem = contatos_df.loc[i, \"Mensagem\"]\n",
    "    #texto = urllib.parse.quote(f\"Oi {pessoa}! {mensagem}\")\n",
    "    link = f\"https://web.whatsapp.com/send?phone={numero}&text={mensagem}\"\n",
    "    navegador.get(link)\n",
    "    while len(navegador.find_elements(By.ID, 'side')) < 1:\n",
    "        time.sleep(10)\n",
    "    time.sleep(2)\n",
    "    navegador.find_element(By.XPATH, '//*[@id=\"main\"]/footer/div[1]/div/span[2]/div/div[2]/div[2]/button/span').click()\n",
    "    time.sleep(4)\n",
    "   \n"
   ]
  },
  {
   "cell_type": "code",
   "execution_count": null,
   "id": "5dcc815c",
   "metadata": {},
   "outputs": [],
   "source": [
    "\n"
   ]
  },
  {
   "cell_type": "code",
   "execution_count": null,
   "id": "ad8531cd",
   "metadata": {},
   "outputs": [],
   "source": []
  },
  {
   "cell_type": "code",
   "execution_count": null,
   "id": "2c8c4d3e",
   "metadata": {},
   "outputs": [],
   "source": []
  }
 ],
 "metadata": {
  "kernelspec": {
   "display_name": "Python 3 (ipykernel)",
   "language": "python",
   "name": "python3"
  },
  "language_info": {
   "codemirror_mode": {
    "name": "ipython",
    "version": 3
   },
   "file_extension": ".py",
   "mimetype": "text/x-python",
   "name": "python",
   "nbconvert_exporter": "python",
   "pygments_lexer": "ipython3",
   "version": "3.9.13"
  }
 },
 "nbformat": 4,
 "nbformat_minor": 5
}
